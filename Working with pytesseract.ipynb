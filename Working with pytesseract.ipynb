{
 "cells": [
  {
   "cell_type": "code",
   "execution_count": 2,
   "id": "349cb88c",
   "metadata": {
    "colab": {
     "base_uri": "https://localhost:8080/"
    },
    "executionInfo": {
     "elapsed": 4502,
     "status": "ok",
     "timestamp": 1680609349927,
     "user": {
      "displayName": "Sanjay Veeraragavulu",
      "userId": "09297159159747095837"
     },
     "user_tz": -330
    },
    "id": "349cb88c",
    "outputId": "969c572c-91ca-45df-9987-4cc4c77e6d44"
   },
   "outputs": [
    {
     "name": "stdout",
     "output_type": "stream",
     "text": [
      "Looking in indexes: https://pypi.org/simple, https://us-python.pkg.dev/colab-wheels/public/simple/\n",
      "Collecting pytesseract\n",
      "  Downloading pytesseract-0.3.10-py3-none-any.whl (14 kB)\n",
      "Requirement already satisfied: packaging>=21.3 in /usr/local/lib/python3.9/dist-packages (from pytesseract) (23.0)\n",
      "Requirement already satisfied: Pillow>=8.0.0 in /usr/local/lib/python3.9/dist-packages (from pytesseract) (8.4.0)\n",
      "Installing collected packages: pytesseract\n",
      "Successfully installed pytesseract-0.3.10\n"
     ]
    }
   ],
   "source": [
    "!pip install pytesseract\n",
    "\n",
    "import pytesseract\n",
    "import cv2\n",
    "import pandas\n",
    "pytesseract.pytesseract.tesseract_cmd = r'/usr/bin/pytesseract'"
   ]
  },
  {
   "cell_type": "code",
   "execution_count": 7,
   "id": "540c7c10",
   "metadata": {
    "executionInfo": {
     "elapsed": 1,
     "status": "ok",
     "timestamp": 1680611982723,
     "user": {
      "displayName": "Sanjay Veeraragavulu",
      "userId": "09297159159747095837"
     },
     "user_tz": -330
    },
    "id": "540c7c10"
   },
   "outputs": [],
   "source": [
    "image  = cv2.imread('image1.png')"
   ]
  },
  {
   "cell_type": "code",
   "execution_count": 17,
   "id": "5e2dd226",
   "metadata": {
    "colab": {
     "base_uri": "https://localhost:8080/"
    },
    "executionInfo": {
     "elapsed": 2,
     "status": "ok",
     "timestamp": 1680612315298,
     "user": {
      "displayName": "Sanjay Veeraragavulu",
      "userId": "09297159159747095837"
     },
     "user_tz": -330
    },
    "id": "5e2dd226",
    "outputId": "98b02cfc-7a40-4bb1-e908-8fcc90d3fb31"
   },
   "outputs": [
    {
     "data": {
      "text/plain": [
       "False"
      ]
     },
     "execution_count": 17,
     "metadata": {},
     "output_type": "execute_result"
    }
   ],
   "source": [
    "gray =  cv2.cvtColor(image,cv2.COLOR_BGR2GRAY)\n",
    "cv2.imwrite('temp/image1_gray.png',gray)"
   ]
  },
  {
   "cell_type": "code",
   "execution_count": null,
   "id": "e35d4994",
   "metadata": {
    "id": "e35d4994",
    "outputId": "1fdc1838-df7e-45ba-e105-9847867f823f"
   },
   "outputs": [
    {
     "data": {
      "text/plain": [
       "True"
      ]
     },
     "execution_count": 4,
     "metadata": {},
     "output_type": "execute_result"
    }
   ],
   "source": [
    "blur = cv2.GaussianBlur(gray,(7,7),0)\n",
    "cv2.imwrite('temp/image1_blur.png',blur)"
   ]
  },
  {
   "cell_type": "code",
   "execution_count": null,
   "id": "5a04a382",
   "metadata": {
    "id": "5a04a382",
    "outputId": "82100283-0a90-486b-f97b-640b06445e85"
   },
   "outputs": [
    {
     "data": {
      "text/plain": [
       "True"
      ]
     },
     "execution_count": 5,
     "metadata": {},
     "output_type": "execute_result"
    }
   ],
   "source": [
    "thresh = cv2.threshold(blur,0,255,cv2.THRESH_BINARY_INV+ cv2.THRESH_OTSU)[1]\n",
    "cv2.imwrite('temp/image1_thresh.png',thresh)"
   ]
  },
  {
   "cell_type": "code",
   "execution_count": null,
   "id": "f63aca29",
   "metadata": {
    "id": "f63aca29",
    "outputId": "450f9f6c-cb2f-4449-f337-ddd27584a343"
   },
   "outputs": [
    {
     "data": {
      "text/plain": [
       "True"
      ]
     },
     "execution_count": 6,
     "metadata": {},
     "output_type": "execute_result"
    }
   ],
   "source": [
    "kernal = cv2.getStructuringElement(cv2.MORPH_RECT,(3,13))\n",
    "cv2.imwrite('temp/image1_kernel.png',kernal)"
   ]
  },
  {
   "cell_type": "code",
   "execution_count": null,
   "id": "2fdbf2c1-cbce-4584-9f7c-4da5c0f74ad3",
   "metadata": {
    "id": "2fdbf2c1-cbce-4584-9f7c-4da5c0f74ad3",
    "outputId": "98e22687-1dae-4b6c-9510-7b8c2e76bc85"
   },
   "outputs": [
    {
     "data": {
      "text/plain": [
       "True"
      ]
     },
     "execution_count": 7,
     "metadata": {},
     "output_type": "execute_result"
    }
   ],
   "source": [
    "dilate = cv2.dilate(thresh,kernal,iterations=1)\n",
    "cv2.imwrite('temp/image1_dilate.png',dilate)"
   ]
  },
  {
   "cell_type": "code",
   "execution_count": null,
   "id": "25d13093-ea00-42e8-a738-5c43cd51e9e3",
   "metadata": {
    "id": "25d13093-ea00-42e8-a738-5c43cd51e9e3"
   },
   "outputs": [],
   "source": [
    "cnts = cv2.findContours(dilate,cv2.RETR_EXTERNAL,cv2.CHAIN_APPROX_SIMPLE)"
   ]
  },
  {
   "cell_type": "code",
   "execution_count": null,
   "id": "385ea3b5-7021-4d26-8982-5faddc1b8889",
   "metadata": {
    "id": "385ea3b5-7021-4d26-8982-5faddc1b8889",
    "tags": []
   },
   "outputs": [],
   "source": [
    "cnts = cnts[0] if len(cnts) == 2 else cnts[1]\n",
    "cnts = sorted(cnts,key=lambda x: cv2.boundingRect(x)[0])"
   ]
  },
  {
   "cell_type": "code",
   "execution_count": null,
   "id": "19f86662-edd2-42de-9429-cdc95e13bb7d",
   "metadata": {
    "id": "19f86662-edd2-42de-9429-cdc95e13bb7d",
    "outputId": "3fea0f91-3f24-4864-9ad3-6bfe36eaed43"
   },
   "outputs": [
    {
     "data": {
      "text/plain": [
       "True"
      ]
     },
     "execution_count": 10,
     "metadata": {},
     "output_type": "execute_result"
    }
   ],
   "source": [
    "for c in cnts:\n",
    "    x,y,w,h = cv2.boundingRect(c)\n",
    "    if h>30 and w>60:\n",
    "        cv2.rectangle(image, (x, y), (x+w, y+h),(36,255,12),2)\n",
    "cv2.imwrite( \"temp/image1_bbox.png\",image)"
   ]
  },
  {
   "cell_type": "code",
   "execution_count": null,
   "id": "3e09822f-7054-4217-9ae9-72c51638dd75",
   "metadata": {
    "id": "3e09822f-7054-4217-9ae9-72c51638dd75"
   },
   "outputs": [],
   "source": []
  }
 ],
 "metadata": {
  "colab": {
   "provenance": []
  },
  "kernelspec": {
   "display_name": "Python 3 (ipykernel)",
   "language": "python",
   "name": "python3"
  },
  "language_info": {
   "codemirror_mode": {
    "name": "ipython",
    "version": 3
   },
   "file_extension": ".py",
   "mimetype": "text/x-python",
   "name": "python",
   "nbconvert_exporter": "python",
   "pygments_lexer": "ipython3",
   "version": "3.9.12"
  }
 },
 "nbformat": 4,
 "nbformat_minor": 5
}