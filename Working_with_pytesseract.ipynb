{
  "cells": [
    {
      "cell_type": "code",
      "execution_count": 1,
      "id": "349cb88c",
      "metadata": {
        "colab": {
          "base_uri": "https://localhost:8080/"
        },
        "id": "349cb88c",
        "outputId": "1e612dbd-0434-4e05-f361-8b374077b8fc"
      },
      "outputs": [
        {
          "output_type": "stream",
          "name": "stdout",
          "text": [
            "Looking in indexes: https://pypi.org/simple, https://us-python.pkg.dev/colab-wheels/public/simple/\n",
            "Requirement already satisfied: pytesseract in /usr/local/lib/python3.9/dist-packages (0.3.10)\n",
            "Requirement already satisfied: packaging>=21.3 in /usr/local/lib/python3.9/dist-packages (from pytesseract) (23.0)\n",
            "Requirement already satisfied: Pillow>=8.0.0 in /usr/local/lib/python3.9/dist-packages (from pytesseract) (8.4.0)\n"
          ]
        }
      ],
      "source": [
        "!pip install pytesseract\n",
        "\n",
        "import pytesseract\n",
        "import cv2\n",
        "import pandas\n",
        "#pytesseract.pytesseract.tesseract_cmd = r'/usr/bin/pytesseract'"
      ]
    },
    {
      "cell_type": "code",
      "execution_count": 2,
      "id": "540c7c10",
      "metadata": {
        "id": "540c7c10"
      },
      "outputs": [],
      "source": [
        "image  = cv2.imread('image1.png')\n",
        "base_image= image.copy()"
      ]
    },
    {
      "cell_type": "code",
      "execution_count": 3,
      "id": "5e2dd226",
      "metadata": {
        "colab": {
          "base_uri": "https://localhost:8080/"
        },
        "id": "5e2dd226",
        "outputId": "e3223d54-5d6b-4608-da37-42b751171785"
      },
      "outputs": [
        {
          "output_type": "execute_result",
          "data": {
            "text/plain": [
              "True"
            ]
          },
          "metadata": {},
          "execution_count": 3
        }
      ],
      "source": [
        "gray =  cv2.cvtColor(image,cv2.COLOR_BGR2GRAY)\n",
        "cv2.imwrite('temp/image1_gray.png',gray)"
      ]
    },
    {
      "cell_type": "code",
      "execution_count": 4,
      "id": "e35d4994",
      "metadata": {
        "id": "e35d4994",
        "outputId": "fd58a654-27fd-426e-c96a-f09a0a4ed64c",
        "colab": {
          "base_uri": "https://localhost:8080/"
        }
      },
      "outputs": [
        {
          "output_type": "execute_result",
          "data": {
            "text/plain": [
              "True"
            ]
          },
          "metadata": {},
          "execution_count": 4
        }
      ],
      "source": [
        "blur = cv2.GaussianBlur(gray,(7,7),0)\n",
        "cv2.imwrite('temp/image1_blur.png',blur)"
      ]
    },
    {
      "cell_type": "code",
      "execution_count": 5,
      "id": "5a04a382",
      "metadata": {
        "id": "5a04a382",
        "outputId": "8e3b1275-95b0-4f82-fa96-64d8006d8488",
        "colab": {
          "base_uri": "https://localhost:8080/"
        }
      },
      "outputs": [
        {
          "output_type": "execute_result",
          "data": {
            "text/plain": [
              "True"
            ]
          },
          "metadata": {},
          "execution_count": 5
        }
      ],
      "source": [
        "thresh = cv2.threshold(blur,0,255,cv2.THRESH_BINARY_INV + cv2.THRESH_OTSU)[1]\n",
        "cv2.imwrite('temp/image1_thresh.png',thresh)"
      ]
    },
    {
      "cell_type": "code",
      "execution_count": 6,
      "id": "f63aca29",
      "metadata": {
        "id": "f63aca29",
        "outputId": "88636fdb-2ecd-448b-efc5-4cadd1827263",
        "colab": {
          "base_uri": "https://localhost:8080/"
        }
      },
      "outputs": [
        {
          "output_type": "execute_result",
          "data": {
            "text/plain": [
              "True"
            ]
          },
          "metadata": {},
          "execution_count": 6
        }
      ],
      "source": [
        "kernal = cv2.getStructuringElement(cv2.MORPH_RECT,(3,13))\n",
        "cv2.imwrite('temp/image1_kernel.png',kernal)"
      ]
    },
    {
      "cell_type": "code",
      "execution_count": 7,
      "id": "2fdbf2c1-cbce-4584-9f7c-4da5c0f74ad3",
      "metadata": {
        "id": "2fdbf2c1-cbce-4584-9f7c-4da5c0f74ad3",
        "outputId": "4acdf783-2510-4281-b7d9-fbafcab715ed",
        "colab": {
          "base_uri": "https://localhost:8080/"
        }
      },
      "outputs": [
        {
          "output_type": "execute_result",
          "data": {
            "text/plain": [
              "True"
            ]
          },
          "metadata": {},
          "execution_count": 7
        }
      ],
      "source": [
        "dilate = cv2.dilate(thresh,kernal,iterations=1)\n",
        "cv2.imwrite('temp/image1_dilate.png',dilate)"
      ]
    },
    {
      "cell_type": "code",
      "execution_count": 8,
      "id": "25d13093-ea00-42e8-a738-5c43cd51e9e3",
      "metadata": {
        "id": "25d13093-ea00-42e8-a738-5c43cd51e9e3"
      },
      "outputs": [],
      "source": [
        "cnts = cv2.findContours(dilate,cv2.RETR_EXTERNAL,cv2.CHAIN_APPROX_SIMPLE)"
      ]
    },
    {
      "cell_type": "code",
      "execution_count": 9,
      "id": "385ea3b5-7021-4d26-8982-5faddc1b8889",
      "metadata": {
        "tags": [],
        "id": "385ea3b5-7021-4d26-8982-5faddc1b8889"
      },
      "outputs": [],
      "source": [
        "cnts = cnts[0] if len(cnts) == 2 else cnts[1]\n",
        "cnts = sorted(cnts,key=lambda x: cv2.boundingRect(x)[0])"
      ]
    },
    {
      "cell_type": "code",
      "execution_count": 10,
      "id": "19f86662-edd2-42de-9429-cdc95e13bb7d",
      "metadata": {
        "id": "19f86662-edd2-42de-9429-cdc95e13bb7d",
        "outputId": "9378f0d0-092b-42b7-beb5-c8c2108601fb",
        "colab": {
          "base_uri": "https://localhost:8080/"
        }
      },
      "outputs": [
        {
          "output_type": "execute_result",
          "data": {
            "text/plain": [
              "True"
            ]
          },
          "metadata": {},
          "execution_count": 10
        }
      ],
      "source": [
        "for c in cnts:\n",
        "    x,y,w,h = cv2.boundingRect(c)\n",
        "    if h>30 and w>60:\n",
        "        roi= image[y:y+h, x:x+h]\n",
        "        cv2.imwrite( \"temp/image1_roi.png\",roi)\n",
        "        cv2.rectangle(image, (x, y), (x+w, y+h),(36,255,12),2)\n",
        "cv2.imwrite( \"temp/image1_bbox.png\",image)"
      ]
    },
    {
      "cell_type": "code",
      "source": [
        "!pip install jovian\n",
        "import jovian\n",
        "jovian.commit()"
      ],
      "metadata": {
        "id": "IsmiCm5pr5Vz",
        "colab": {
          "base_uri": "https://localhost:8080/",
          "height": 537
        },
        "outputId": "fcfe23f3-e514-437f-daab-31c6c86bfeaf"
      },
      "id": "IsmiCm5pr5Vz",
      "execution_count": 11,
      "outputs": [
        {
          "output_type": "stream",
          "name": "stdout",
          "text": [
            "Looking in indexes: https://pypi.org/simple, https://us-python.pkg.dev/colab-wheels/public/simple/\n",
            "Collecting jovian\n",
            "  Downloading jovian-0.2.47-py2.py3-none-any.whl (68 kB)\n",
            "\u001b[2K     \u001b[90m━━━━━━━━━━━━━━━━━━━━━━━━━━━━━━━━━━━━━━━━\u001b[0m \u001b[32m68.6/68.6 KB\u001b[0m \u001b[31m3.5 MB/s\u001b[0m eta \u001b[36m0:00:00\u001b[0m\n",
            "\u001b[?25hRequirement already satisfied: pyyaml in /usr/local/lib/python3.9/dist-packages (from jovian) (6.0)\n",
            "Collecting uuid\n",
            "  Downloading uuid-1.30.tar.gz (5.8 kB)\n",
            "  Preparing metadata (setup.py) ... \u001b[?25l\u001b[?25hdone\n",
            "Requirement already satisfied: requests in /usr/local/lib/python3.9/dist-packages (from jovian) (2.27.1)\n",
            "Requirement already satisfied: click in /usr/local/lib/python3.9/dist-packages (from jovian) (8.1.3)\n",
            "Requirement already satisfied: urllib3<1.27,>=1.21.1 in /usr/local/lib/python3.9/dist-packages (from requests->jovian) (1.26.15)\n",
            "Requirement already satisfied: certifi>=2017.4.17 in /usr/local/lib/python3.9/dist-packages (from requests->jovian) (2022.12.7)\n",
            "Requirement already satisfied: charset-normalizer~=2.0.0 in /usr/local/lib/python3.9/dist-packages (from requests->jovian) (2.0.12)\n",
            "Requirement already satisfied: idna<4,>=2.5 in /usr/local/lib/python3.9/dist-packages (from requests->jovian) (3.4)\n",
            "Building wheels for collected packages: uuid\n",
            "  Building wheel for uuid (setup.py) ... \u001b[?25l\u001b[?25hdone\n",
            "  Created wheel for uuid: filename=uuid-1.30-py3-none-any.whl size=6502 sha256=62a6e927db295b6a611bb4b02166e8ec1175612e976fe1677dcace545d36789c\n",
            "  Stored in directory: /root/.cache/pip/wheels/05/d7/b4/4795d29c6decfffbf64c63e58b6c8b8bbfd4751488617dcd7a\n",
            "Successfully built uuid\n",
            "Installing collected packages: uuid, jovian\n",
            "Successfully installed jovian-0.2.47 uuid-1.30\n"
          ]
        },
        {
          "output_type": "display_data",
          "data": {
            "application/vnd.colab-display-data+json": {
              "pip_warning": {
                "packages": [
                  "uuid"
                ]
              }
            }
          },
          "metadata": {}
        },
        {
          "output_type": "stream",
          "name": "stdout",
          "text": [
            "[jovian] Detected Colab notebook...\u001b[0m\n",
            "[jovian] jovian.commit() is no longer required on Google Colab. If you ran this notebook from Jovian, \n",
            "then just save this file in Colab using Ctrl+S/Cmd+S and it will be updated on Jovian. \n",
            "Also, you can also delete this cell, it's no longer necessary.\u001b[0m\n"
          ]
        }
      ]
    },
    {
      "cell_type": "code",
      "source": [],
      "metadata": {
        "id": "-oC7QLrwxhIy"
      },
      "id": "-oC7QLrwxhIy",
      "execution_count": 10,
      "outputs": []
    },
    {
      "cell_type": "code",
      "source": [],
      "metadata": {
        "id": "N3U3gm3hxhBa"
      },
      "id": "N3U3gm3hxhBa",
      "execution_count": 10,
      "outputs": []
    },
    {
      "cell_type": "code",
      "source": [],
      "metadata": {
        "id": "Q4FlbXD6xg2j"
      },
      "id": "Q4FlbXD6xg2j",
      "execution_count": 10,
      "outputs": []
    }
  ],
  "metadata": {
    "kernelspec": {
      "display_name": "Python 3 (ipykernel)",
      "language": "python",
      "name": "python3"
    },
    "language_info": {
      "codemirror_mode": {
        "name": "ipython",
        "version": 3
      },
      "file_extension": ".py",
      "mimetype": "text/x-python",
      "name": "python",
      "nbconvert_exporter": "python",
      "pygments_lexer": "ipython3",
      "version": "3.9.12"
    },
    "colab": {
      "provenance": []
    }
  },
  "nbformat": 4,
  "nbformat_minor": 5
}