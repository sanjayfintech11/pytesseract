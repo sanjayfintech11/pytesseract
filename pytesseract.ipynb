{
 "cells": [
  {
   "cell_type": "code",
   "execution_count": 1,
   "id": "349cb88c",
   "metadata": {},
   "outputs": [],
   "source": [
    "# !pip install pytesseract\n",
    "\n",
    "import pytesseract\n",
    "import cv2\n",
    "import pandas\n",
    "pytesseract.pytesseract.tesseract_cmd = r'/usr/bin/pytesseract'"
   ]
  },
  {
   "cell_type": "code",
   "execution_count": 2,
   "id": "540c7c10",
   "metadata": {},
   "outputs": [],
   "source": [
    "image  = cv2.imread('image1.png')"
   ]
  },
  {
   "cell_type": "code",
   "execution_count": 3,
   "id": "5e2dd226",
   "metadata": {},
   "outputs": [
    {
     "data": {
      "text/plain": [
       "True"
      ]
     },
     "execution_count": 3,
     "metadata": {},
     "output_type": "execute_result"
    }
   ],
   "source": [
    "gray =  cv2.cvtColor(image,cv2.COLOR_BGR2GRAY)\n",
    "cv2.imwrite('temp/image1_gray.png',gray)"
   ]
  },
  {
   "cell_type": "code",
   "execution_count": 4,
   "id": "e35d4994",
   "metadata": {},
   "outputs": [
    {
     "data": {
      "text/plain": [
       "True"
      ]
     },
     "execution_count": 4,
     "metadata": {},
     "output_type": "execute_result"
    }
   ],
   "source": [
    "blur = cv2.GaussianBlur(gray,(7,7),0)\n",
    "cv2.imwrite('temp/image1_blur.png',blur)"
   ]
  },
  {
   "cell_type": "code",
   "execution_count": 5,
   "id": "5a04a382",
   "metadata": {},
   "outputs": [
    {
     "data": {
      "text/plain": [
       "True"
      ]
     },
     "execution_count": 5,
     "metadata": {},
     "output_type": "execute_result"
    }
   ],
   "source": [
    "thresh = cv2.threshold(blur,0,255,cv2.THRESH_BINARY_INV+ cv2.THRESH_OTSU)[1]\n",
    "cv2.imwrite('temp/image1_thresh.png',thresh)"
   ]
  },
  {
   "cell_type": "code",
   "execution_count": 6,
   "id": "f63aca29",
   "metadata": {},
   "outputs": [
    {
     "data": {
      "text/plain": [
       "True"
      ]
     },
     "execution_count": 6,
     "metadata": {},
     "output_type": "execute_result"
    }
   ],
   "source": [
    "kernal = cv2.getStructuringElement(cv2.MORPH_RECT,(3,13))\n",
    "cv2.imwrite('temp/image1_kernel.png',kernal)"
   ]
  },
  {
   "cell_type": "code",
   "execution_count": 7,
   "id": "2fdbf2c1-cbce-4584-9f7c-4da5c0f74ad3",
   "metadata": {},
   "outputs": [
    {
     "data": {
      "text/plain": [
       "True"
      ]
     },
     "execution_count": 7,
     "metadata": {},
     "output_type": "execute_result"
    }
   ],
   "source": [
    "dilate = cv2.dilate(thresh,kernal,iterations=1)\n",
    "cv2.imwrite('temp/image1_dilate.png',dilate)"
   ]
  },
  {
   "cell_type": "code",
   "execution_count": 8,
   "id": "25d13093-ea00-42e8-a738-5c43cd51e9e3",
   "metadata": {},
   "outputs": [],
   "source": [
    "cnts = cv2.findContours(dilate,cv2.RETR_EXTERNAL,cv2.CHAIN_APPROX_SIMPLE)"
   ]
  },
  {
   "cell_type": "code",
   "execution_count": 9,
   "id": "385ea3b5-7021-4d26-8982-5faddc1b8889",
   "metadata": {
    "tags": []
   },
   "outputs": [],
   "source": [
    "cnts = cnts[0] if len(cnts) == 2 else cnts[1]\n",
    "cnts = sorted(cnts,key=lambda x: cv2.boundingRect(x)[0])"
   ]
  },
  {
   "cell_type": "code",
   "execution_count": 10,
   "id": "19f86662-edd2-42de-9429-cdc95e13bb7d",
   "metadata": {},
   "outputs": [
    {
     "data": {
      "text/plain": [
       "True"
      ]
     },
     "execution_count": 10,
     "metadata": {},
     "output_type": "execute_result"
    }
   ],
   "source": [
    "for c in cnts:\n",
    "    x,y,w,h = cv2.boundingRect(c)\n",
    "    if h>30 and w>60:\n",
    "        cv2.rectangle(image, (x, y), (x+w, y+h),(36,255,12),2)\n",
    "cv2.imwrite( \"temp/image1_bbox.png\",image)"
   ]
  },
  {
   "cell_type": "code",
   "execution_count": null,
   "id": "3e09822f-7054-4217-9ae9-72c51638dd75",
   "metadata": {},
   "outputs": [],
   "source": []
  }
 ],
 "metadata": {
  "kernelspec": {
   "display_name": "Python 3 (ipykernel)",
   "language": "python",
   "name": "python3"
  },
  "language_info": {
   "codemirror_mode": {
    "name": "ipython",
    "version": 3
   },
   "file_extension": ".py",
   "mimetype": "text/x-python",
   "name": "python",
   "nbconvert_exporter": "python",
   "pygments_lexer": "ipython3",
   "version": "3.9.12"
  }
 },
 "nbformat": 4,
 "nbformat_minor": 5
}
